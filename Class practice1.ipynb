{
 "cells": [
  {
   "cell_type": "markdown",
   "id": "c3813b01-16b3-4bd2-b4bd-8ca72e672928",
   "metadata": {},
   "source": [
    "Program to get the largest number from a list"
   ]
  },
  {
   "cell_type": "code",
   "execution_count": 4,
   "id": "d3c4196b-e133-41f3-869b-b77f5d93f888",
   "metadata": {},
   "outputs": [
    {
     "name": "stdout",
     "output_type": "stream",
     "text": [
      "The largest number in the list is: 77\n"
     ]
    }
   ],
   "source": [
    "list = [1,45,77,63,23,19,22,16,9,55]\n",
    "\n",
    "largest = max(list)\n",
    "print(f'The largest number in the list is: {largest}')"
   ]
  },
  {
   "cell_type": "markdown",
   "id": "b15154a9-a1cb-40cf-9f6f-4d9be632ba35",
   "metadata": {},
   "source": [
    "Program to get the smallest numbr from a list"
   ]
  },
  {
   "cell_type": "code",
   "execution_count": 5,
   "id": "cde3b7b8-69b4-4705-ba55-06608af308ec",
   "metadata": {},
   "outputs": [
    {
     "name": "stdout",
     "output_type": "stream",
     "text": [
      "The largest number in the list is: 9\n"
     ]
    }
   ],
   "source": [
    "list = [11,45,77,63,23,19,22,16,9,55]\n",
    "\n",
    "smallest = min(list)\n",
    "print(f'The largest number in the list is: {smallest}')"
   ]
  },
  {
   "cell_type": "markdown",
   "id": "50e84b39-7ad5-4ee9-b54f-e0df39e082b1",
   "metadata": {},
   "source": [
    "Script to add a key to a dictionary"
   ]
  },
  {
   "cell_type": "code",
   "execution_count": 6,
   "id": "a9802100-cf04-4f83-bdc7-1c76b35bc985",
   "metadata": {},
   "outputs": [
    {
     "name": "stdout",
     "output_type": "stream",
     "text": [
      "{'name': 'William', 'gender': 'male'}\n"
     ]
    }
   ],
   "source": [
    "user1 = {\n",
    "    \"name\": \"William\",\n",
    "}\n",
    "\n",
    "user1[\"gender\"] = \"male\"\n",
    "print(user1)"
   ]
  },
  {
   "cell_type": "markdown",
   "id": "fcfaf8a5-c92f-4dd4-a081-78fa141e9b51",
   "metadata": {},
   "source": [
    "Script to merge two python dictionaries"
   ]
  },
  {
   "cell_type": "code",
   "execution_count": 7,
   "id": "4b30d33b-bc58-4010-80b5-85ce247a592b",
   "metadata": {},
   "outputs": [
    {
     "name": "stdout",
     "output_type": "stream",
     "text": [
      "{'a': 1, 'b': 2, 'c': 5, 'd': 3}\n"
     ]
    }
   ],
   "source": [
    "dict1 = {'a': 1, 'b': 2}\n",
    "dict2 = {'c': 5, 'd':3}\n",
    "\n",
    "merged = dict1 | dict2\n",
    "print(merged)"
   ]
  },
  {
   "cell_type": "markdown",
   "id": "b242ea9d-4517-4b2b-a2fc-2649a1e3a114",
   "metadata": {},
   "source": [
    "Program to remove a key from a dictionary"
   ]
  },
  {
   "cell_type": "code",
   "execution_count": 8,
   "id": "9121f57f-40d1-464f-ae88-1ba797ec98d1",
   "metadata": {},
   "outputs": [
    {
     "name": "stdout",
     "output_type": "stream",
     "text": [
      "{'name': 'Barry', 'age': 25, 'status': 'single'}\n"
     ]
    }
   ],
   "source": [
    "user1 ={\n",
    "    \"name\": \"Barry\",\n",
    "    \"age\": 25,\n",
    "    \"status\": \"single\",\n",
    "    \"isEmployed\": True,\n",
    "}\n",
    "\n",
    "del user1[\"isEmployed\"]\n",
    "print(user1)"
   ]
  },
  {
   "cell_type": "raw",
   "id": "0e78acb7-c96e-43f1-8bf2-3a435ca5df6b",
   "metadata": {},
   "source": [
    "Program to covert a list to a tuple"
   ]
  },
  {
   "cell_type": "code",
   "execution_count": 9,
   "id": "080885da-e8ff-4533-a5df-14582c3403dd",
   "metadata": {},
   "outputs": [
    {
     "name": "stdout",
     "output_type": "stream",
     "text": [
      "(19, 45, 77, 63, 23, 22, 19, 22, 16, 9, 55)\n"
     ]
    }
   ],
   "source": [
    "list = [19,45,77,63,23,22,19,22,16,9,55]\n",
    "\n",
    "newTuple = tuple(list)\n",
    "print(newTuple)"
   ]
  }
 ],
 "metadata": {
  "kernelspec": {
   "display_name": "Python 3 (ipykernel)",
   "language": "python",
   "name": "python3"
  },
  "language_info": {
   "codemirror_mode": {
    "name": "ipython",
    "version": 3
   },
   "file_extension": ".py",
   "mimetype": "text/x-python",
   "name": "python",
   "nbconvert_exporter": "python",
   "pygments_lexer": "ipython3",
   "version": "3.12.4"
  }
 },
 "nbformat": 4,
 "nbformat_minor": 5
}
